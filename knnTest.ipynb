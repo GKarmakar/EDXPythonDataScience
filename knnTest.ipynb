{
 "cells": [
  {
   "cell_type": "code",
   "execution_count": 42,
   "metadata": {
    "collapsed": true
   },
   "outputs": [],
   "source": [
    "%matplotlib inline\n",
    "\n",
    "import numpy as np\n",
    "import matplotlib.pyplot as plt\n",
    "import time\n",
    "import os\n",
    "\n",
    "import csv\n",
    "import random\n",
    "import math\n",
    "import operator"
   ]
  },
  {
   "cell_type": "code",
   "execution_count": 43,
   "metadata": {
    "collapsed": false
   },
   "outputs": [],
   "source": [
    "def loadDataset(filename, split, trainingSet=[] , testSet=[]):\n",
    "    with open(filename, 'rb') as csvfile:\n",
    "        lines = csv.reader(csvfile)\n",
    "        dataset = list(lines)\n",
    "        for x in range(len(dataset)):\n",
    "           for y in range(2):\n",
    "              dataset[x][y] = float(dataset[x][y])\n",
    "           if random.random() < split:\n",
    "              trainingSet.append(dataset[x])\n",
    "           else:\n",
    "              testSet.append(dataset[x])"
   ]
  },
  {
   "cell_type": "code",
   "execution_count": 44,
   "metadata": {
    "collapsed": true
   },
   "outputs": [],
   "source": [
    "def euclideanDistance(instance1, instance2, length):\n",
    "    distance = 0\n",
    "    for x in range(length):\n",
    "        instance1[x] = float(instance1[x])\n",
    "        instance2[x] = float(instance2[x])\n",
    "        distance += math.pow((instance1[x] - instance2[x]), 2)\n",
    "    return math.sqrt(distance)"
   ]
  },
  {
   "cell_type": "code",
   "execution_count": 45,
   "metadata": {
    "collapsed": true
   },
   "outputs": [],
   "source": [
    "def getNeighbors(trainingSet, testInstance, k):\n",
    "    distances = []\n",
    "    length = len(testInstance)-1\n",
    "    for x in range(len(trainingSet)):\n",
    "        dist = euclideanDistance(testInstance, trainingSet[x], length)\n",
    "        distances.append((trainingSet[x], dist))\n",
    "    distances.sort(key=operator.itemgetter(1))\n",
    "    neighbors = []\n",
    "\n",
    "    for x in range(k):\n",
    "        neighbors.append(distances[x][0])\n",
    "    return neighbors"
   ]
  },
  {
   "cell_type": "code",
   "execution_count": 46,
   "metadata": {
    "collapsed": true
   },
   "outputs": [],
   "source": [
    "def getResponse(neighbors):\n",
    "    classVotes = {}\n",
    "    for x in range(len(neighbors)):\n",
    "        response = neighbors[x][-1]\n",
    "    if response in classVotes:\n",
    "       classVotes[response] += 1\n",
    "    else:\n",
    "       classVotes[response] = 1\n",
    "    sortedVotes = sorted(classVotes.iteritems(), key=operator.itemgetter(1), reverse=True)\n",
    "    return sortedVotes[0][0]"
   ]
  },
  {
   "cell_type": "code",
   "execution_count": 47,
   "metadata": {
    "collapsed": true
   },
   "outputs": [],
   "source": [
    " def getAccuracy(testSet, predictions):\n",
    "    correct = 0\n",
    "    for x in range(len(testSet)):\n",
    "        if testSet[x][-1] == predictions[x]:\n",
    "           correct += 1\n",
    "    return (correct/float(len(testSet))) * 100.0"
   ]
  },
  {
   "cell_type": "code",
   "execution_count": 58,
   "metadata": {
    "collapsed": false
   },
   "outputs": [
    {
     "name": "stdout",
     "output_type": "stream",
     "text": [
      "Train set: 167\n",
      "Test set: 75\n",
      "> predicted='1', actual='0'\n",
      "> predicted='1', actual='0'\n",
      "> predicted='1', actual='1'\n",
      "> predicted='0', actual='0'\n",
      "> predicted='1', actual='1'\n",
      "> predicted='1', actual='1'\n",
      "> predicted='1', actual='1'\n",
      "> predicted='0', actual='0'\n",
      "> predicted='0', actual='0'\n",
      "> predicted='0', actual='0'\n",
      "> predicted='0', actual='0'\n",
      "> predicted='0', actual='0'\n",
      "> predicted='0', actual='0'\n",
      "> predicted='0', actual='0'\n",
      "> predicted='0', actual='0'\n",
      "> predicted='0', actual='1'\n",
      "> predicted='0', actual='0'\n",
      "> predicted='0', actual='0'\n",
      "> predicted='0', actual='1'\n",
      "> predicted='0', actual='0'\n",
      "> predicted='0', actual='0'\n",
      "> predicted='0', actual='1'\n",
      "> predicted='0', actual='0'\n",
      "> predicted='0', actual='1'\n",
      "> predicted='1', actual='1'\n",
      "> predicted='1', actual='1'\n",
      "> predicted='1', actual='0'\n",
      "> predicted='1', actual='1'\n",
      "> predicted='1', actual='1'\n",
      "> predicted='0', actual='1'\n",
      "> predicted='0', actual='1'\n",
      "> predicted='0', actual='1'\n",
      "> predicted='1', actual='1'\n",
      "> predicted='1', actual='1'\n",
      "> predicted='1', actual='1'\n",
      "> predicted='1', actual='1'\n",
      "> predicted='1', actual='0'\n",
      "> predicted='1', actual='0'\n",
      "> predicted='0', actual='1'\n",
      "> predicted='1', actual='0'\n",
      "> predicted='1', actual='0'\n",
      "> predicted='1', actual='0'\n",
      "> predicted='1', actual='1'\n",
      "> predicted='0', actual='0'\n",
      "> predicted='0', actual='0'\n",
      "> predicted='0', actual='0'\n",
      "> predicted='1', actual='1'\n",
      "> predicted='0', actual='0'\n",
      "> predicted='1', actual='0'\n",
      "> predicted='1', actual='0'\n",
      "> predicted='0', actual='0'\n",
      "> predicted='0', actual='0'\n",
      "> predicted='0', actual='1'\n",
      "> predicted='0', actual='0'\n",
      "> predicted='0', actual='0'\n",
      "> predicted='0', actual='0'\n",
      "> predicted='0', actual='0'\n",
      "> predicted='0', actual='0'\n",
      "> predicted='0', actual='1'\n",
      "> predicted='0', actual='0'\n",
      "> predicted='1', actual='1'\n",
      "> predicted='0', actual='1'\n",
      "> predicted='1', actual='1'\n",
      "> predicted='0', actual='0'\n",
      "> predicted='1', actual='0'\n",
      "> predicted='1', actual='1'\n",
      "> predicted='0', actual='0'\n",
      "> predicted='1', actual='1'\n",
      "> predicted='0', actual='1'\n",
      "> predicted='1', actual='1'\n",
      "> predicted='0', actual='1'\n",
      "> predicted='1', actual='1'\n",
      "> predicted='0', actual='1'\n",
      "> predicted='1', actual='0'\n",
      "> predicted='1', actual='0'\n",
      "Accuracy: 64.0%\n"
     ]
    }
   ],
   "source": [
    "def main():\n",
    "    trainingSet=[]\n",
    "    testSet=[]\n",
    "    split = 0.7\n",
    "    loadDataset('npf_combined_lux_nodupes_rlrtest_noheaders.csv', split, trainingSet, testSet)\n",
    "    print 'Train set: ' + repr(len(trainingSet))\n",
    "    print 'Test set: ' + repr(len(testSet))\n",
    "# generate predictions\n",
    "    predictions=[]\n",
    "    k = 5\n",
    "    for x in range(len(testSet)):\n",
    "        neighbors = getNeighbors(trainingSet, testSet[x], k)\n",
    "        result = getResponse(neighbors)\n",
    "        predictions.append(result)\n",
    "        print('> predicted=' + repr(result) + ', actual=' + repr(testSet[x][-1]))\n",
    "    accuracy = getAccuracy(testSet, predictions)\n",
    "    print('Accuracy: ' + repr(accuracy) + '%')\n",
    "\n",
    "main()"
   ]
  },
  {
   "cell_type": "code",
   "execution_count": null,
   "metadata": {
    "collapsed": true
   },
   "outputs": [],
   "source": []
  },
  {
   "cell_type": "code",
   "execution_count": null,
   "metadata": {
    "collapsed": true
   },
   "outputs": [],
   "source": []
  }
 ],
 "metadata": {
  "kernelspec": {
   "display_name": "Python 2",
   "language": "python",
   "name": "python2"
  },
  "language_info": {
   "codemirror_mode": {
    "name": "ipython",
    "version": 2
   },
   "file_extension": ".py",
   "mimetype": "text/x-python",
   "name": "python",
   "nbconvert_exporter": "python",
   "pygments_lexer": "ipython2",
   "version": "2.7.11"
  }
 },
 "nbformat": 4,
 "nbformat_minor": 0
}
